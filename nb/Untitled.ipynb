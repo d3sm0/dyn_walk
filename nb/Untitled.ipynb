{
 "cells": [
  {
   "cell_type": "code",
   "execution_count": 98,
   "metadata": {
    "collapsed": true
   },
   "outputs": [],
   "source": [
    "import tensorflow as tf\n",
    "import os\n",
    "import pandas as pd\n",
    "import random\n",
    "from tensorflow.contrib.rnn import BasicLSTMCell, LSTMStateTuple, GRUCell, DropoutWrapper\n",
    "from tensorflow.contrib.layers import fully_connected"
   ]
  },
  {
   "cell_type": "code",
   "execution_count": 11,
   "metadata": {
    "collapsed": true
   },
   "outputs": [],
   "source": [
    "import numpy as np"
   ]
  },
  {
   "cell_type": "code",
   "execution_count": 2,
   "metadata": {},
   "outputs": [],
   "source": [
    "files = os.listdir(path='../../logs')"
   ]
  },
  {
   "cell_type": "code",
   "execution_count": 3,
   "metadata": {},
   "outputs": [],
   "source": [
    "states, next_states, rewards, actions = [], [], [], []"
   ]
  },
  {
   "cell_type": "code",
   "execution_count": 4,
   "metadata": {},
   "outputs": [],
   "source": [
    "for f in files:\n",
    "    if 'next_state' in f:\n",
    "        df= pd.read_csv('../../logs/'+f, index_col=0)\n",
    "        next_states.append(df)\n",
    "    elif 'state' in f:\n",
    "        df= pd.read_csv('../../logs/'+f, index_col=0)\n",
    "        states.append(df)\n",
    "    elif 'action' in f:\n",
    "        df= pd.read_csv('../../logs/'+f, index_col=0)\n",
    "        actions.append(df)"
   ]
  },
  {
   "cell_type": "code",
   "execution_count": 113,
   "metadata": {
    "collapsed": true
   },
   "outputs": [],
   "source": [
    "tf.reset_default_graph()\n",
    "state = tf.placeholder('float32', shape = [None, 41])\n",
    "cell = GRUCell(num_units=h_size)"
   ]
  },
  {
   "cell_type": "code",
   "execution_count": 114,
   "metadata": {},
   "outputs": [],
   "source": [
    "out, state_out = tf.nn.dynamic_rnn(cell = cell, inputs=tf.expand_dims ( state , [ 0 ] ), dtype='float32')"
   ]
  },
  {
   "cell_type": "code",
   "execution_count": 115,
   "metadata": {},
   "outputs": [
    {
     "data": {
      "text/plain": [
       "<tf.Tensor 'rnn/while/Exit_2:0' shape=(?, 128) dtype=float32>"
      ]
     },
     "execution_count": 115,
     "metadata": {},
     "output_type": "execute_result"
    }
   ],
   "source": [
    "state_out"
   ]
  },
  {
   "cell_type": "code",
   "execution_count": 147,
   "metadata": {},
   "outputs": [],
   "source": [
    "h_size = 128\n",
    "tf.reset_default_graph()\n",
    "state = tf.placeholder('float32', shape = [None, 41])\n",
    "action = tf.placeholder('float32', shape = [None, 18])\n",
    "droput = 0.2\n",
    "\n",
    "def lstm_test(state, h_size, dropout=0.8):\n",
    "    \n",
    "    \n",
    "    cell = BasicLSTMCell ( h_size, activation=tf.nn.tanh)\n",
    "    \n",
    "#     cell = tf.contrib.rnn.DropoutWrapper(cell, output_keep_prob=1.0 - dropout)\n",
    "\n",
    "#     cell = GRUCell(num_units=h_size)\n",
    "\n",
    "    step_size = tf.shape ( state )[ :1 ]\n",
    "\n",
    "    c_in = tf.placeholder ( 'float32' , [ 1 , cell.state_size.c ] , name='c' )\n",
    "    h_in = tf.placeholder ( 'float32' , [ 1 , cell.state_size.h ] , name='h' )\n",
    "\n",
    "    init = LSTMStateTuple ( c_in , h_in )\n",
    "    \n",
    "    out , state_out = tf.nn.dynamic_rnn ( cell=cell , initial_state=init , inputs=tf.expand_dims ( state , [ 0 ] ) ,\n",
    "                                          sequence_length=step_size )\n",
    "    \n",
    "    out, c_out = tf.nn.dynamic_rnn(cell = cell, inputs=tf.expand_dims ( state , [ 0 ] ), dtype='float32')\n",
    "    c_out , h_out = state_out\n",
    "    state_out = [ c_out[ :1 , : ] , h_out[ :1 , : ] ]\n",
    "    \n",
    "    lstm_output = tf.reshape ( out , [ -1 , h_size ] )\n",
    "\n",
    "    return lstm_output, c_in, h_in\n",
    "\n",
    "def fc_test(state,h_size):\n",
    "    h1 = fully_connected( inputs=state, num_outputs=h_size, activation_fn=tf.nn.elu)\n",
    "    h1 = fully_connected( inputs=h1, num_outputs=h_size, activation_fn=tf.nn.elu)\n",
    "    \n",
    "    return fully_connected(h1, h_size, activation_fn=tf.nn.elu)\n",
    "\n",
    "\n",
    "out = fc_test(state,h_size)\n",
    "# out, c_in, h_in = lstm_test(state, h_size)\n",
    "mu_hat = fully_connected(out, 18)\n",
    "\n",
    "# tf.nn.softmax_cross_entropy_with_logits(logits, labels, name=None)\n",
    "\n",
    "# loss = -tf.reduce_mean(tf.nn.softmax_cross_entropy_with_logits(logits=mu_hat, labels=action))\n",
    "loss = tf.reduce_mean(tf.squared_difference(mu_hat, action), name = 'loss')\n",
    "train = tf.train.AdamOptimizer(learning_rate= 1e-4).minimize(loss)"
   ]
  },
  {
   "cell_type": "code",
   "execution_count": 148,
   "metadata": {
    "collapsed": true
   },
   "outputs": [],
   "source": [
    "sess = tf.InteractiveSession()\n",
    "sess.run(tf.global_variables_initializer())"
   ]
  },
  {
   "cell_type": "code",
   "execution_count": 151,
   "metadata": {},
   "outputs": [
    {
     "name": "stdout",
     "output_type": "stream",
     "text": [
      "0.195189 0.195189\n",
      "0.260189 0.195293\n",
      "0.249664 0.195234\n",
      "0.259719 0.337883\n",
      "0.268323 0.337751\n",
      "0.264887 0.337767\n",
      "0.264662 0.18754\n",
      "0.266516 0.337746\n",
      "0.264102 0.186107\n",
      "0.260513 0.185707\n",
      "0.25609 0.185146\n",
      "0.255205 0.337749\n",
      "0.251901 0.184357\n",
      "0.253784 0.337883\n",
      "0.253224 0.184121\n",
      "0.251712 0.337883\n",
      "0.251337 0.337883\n",
      "0.250116 0.337747\n",
      "0.252421 0.337883\n",
      "0.25287 0.337747\n",
      "0.254803 0.184821\n",
      "0.255099 0.183909\n",
      "0.255368 0.184101\n",
      "0.255616 0.337883\n",
      "0.254566 0.18468\n",
      "0.25421 0.184667\n",
      "0.255059 0.184706\n",
      "0.255842 0.337748\n",
      "0.256024 0.337883\n",
      "0.255675 0.184669\n",
      "0.255848 0.337748\n",
      "0.257001 0.337749\n",
      "0.256649 0.337883\n",
      "0.256781 0.337883\n",
      "0.257805 0.337748\n",
      "0.257457 0.184659\n",
      "0.257554 0.183866\n",
      "0.258475 0.337748\n",
      "0.257737 0.337883\n",
      "0.259785 0.337749\n",
      "0.259617 0.337883\n",
      "0.260408 0.18629\n",
      "0.260072 0.185403\n",
      "0.259382 0.18422\n",
      "0.260114 0.337747\n",
      "0.259793 0.337883\n",
      "0.259818 0.337747\n",
      "0.26017 0.337748\n",
      "0.260506 0.337883\n",
      "0.260201 0.337883\n",
      "0.261445 0.184689\n",
      "0.260832 0.183758\n",
      "0.259948 0.183819\n",
      "0.259675 0.337883\n",
      "0.259983 0.337748\n",
      "0.260557 0.337748\n",
      "0.260012 0.18376\n",
      "0.260298 0.184693\n",
      "0.261374 0.337748\n",
      "0.261886 0.183814\n",
      "0.261872 0.337747\n",
      "0.262412 0.337883\n",
      "0.26199 0.184948\n",
      "0.26198 0.337762\n",
      "0.26173 0.335737\n",
      "0.261481 0.186921\n",
      "0.261705 0.185516\n",
      "0.261683 0.334914\n",
      "0.261653 0.186313\n",
      "0.261843 0.185327\n",
      "0.262037 0.341475\n",
      "0.262027 0.337757\n",
      "0.261377 0.183939\n",
      "0.261375 0.184224\n",
      "0.261371 0.184425\n",
      "0.261367 0.337748\n",
      "0.261565 0.337748\n",
      "0.261557 0.337883\n",
      "0.261157 0.184558\n",
      "0.260766 0.184614\n",
      "0.260959 0.183813\n",
      "0.261339 0.184559\n",
      "0.261334 0.337748\n",
      "0.261699 0.337883\n",
      "0.261323 0.183704\n",
      "0.261319 0.184539\n",
      "0.261137 0.337748\n",
      "0.261135 0.18448\n",
      "0.261481 0.337748\n",
      "0.261648 0.18448\n",
      "0.261125 0.337883\n",
      "0.261123 0.337748\n",
      "0.260618 0.337747\n",
      "0.260455 0.337883\n",
      "0.260624 0.183649\n",
      "0.260788 0.337883\n",
      "0.260949 0.337747\n",
      "0.261424 0.337883\n",
      "0.261419 0.184479\n",
      "0.261879 0.337883\n",
      "0.262022 0.183663\n",
      "0.262162 0.337747\n",
      "0.262452 0.337883\n",
      "0.262288 0.183688\n",
      "0.262126 0.337747\n",
      "0.262408 0.337747\n",
      "0.262393 0.183658\n",
      "0.262523 0.337746\n",
      "0.262651 0.337746\n",
      "0.262419 0.184534\n",
      "0.26241 0.185041\n",
      "0.262538 0.184311\n",
      "0.262389 0.337883\n",
      "0.262241 0.184238\n",
      "0.26196 0.184525\n",
      "0.261682 0.337746\n",
      "0.26194 0.184498\n",
      "0.262062 0.337883\n",
      "0.262051 0.337747\n",
      "0.26217 0.337747\n",
      "0.262287 0.183605\n",
      "0.262275 0.337746\n",
      "0.262515 0.183569\n",
      "0.2625 0.337883\n",
      "0.262364 0.337883\n",
      "0.262599 0.337746\n",
      "0.262708 0.183647\n",
      "0.262574 0.337745\n",
      "0.26268 0.18439\n",
      "0.262784 0.337746\n",
      "0.262769 0.183577\n",
      "0.262637 0.184423\n",
      "0.262973 0.337746\n",
      "0.262957 0.183605\n",
      "0.262942 0.184425\n",
      "0.263154 0.337747\n",
      "0.262798 0.184386\n",
      "0.262447 0.337746\n",
      "0.262769 0.337745\n",
      "0.262756 0.183598\n",
      "0.263072 0.337883\n",
      "0.263165 0.183527\n",
      "0.263256 0.337883\n",
      "0.263239 0.183591\n",
      "0.263223 0.337745\n",
      "0.263207 0.183517\n",
      "0.263296 0.337883\n",
      "0.263384 0.183524\n",
      "0.263366 0.337745\n",
      "0.263555 0.183511\n",
      "0.263537 0.337883\n",
      "0.26362 0.337745\n",
      "0.263602 0.183496\n",
      "0.263483 0.337883\n",
      "0.263165 0.183537\n",
      "0.262951 0.183518\n",
      "0.262936 0.337746\n",
      "0.262629 0.337746\n",
      "0.262521 0.183605\n",
      "0.262607 0.183575\n",
      "0.262499 0.337883\n",
      "0.262392 0.183516\n",
      "0.262571 0.337746\n",
      "0.262466 0.337883\n",
      "0.262644 0.337883\n",
      "0.262725 0.183469\n",
      "0.26262 0.183474\n",
      "0.262425 0.337746\n",
      "0.262233 0.18348\n",
      "0.261861 0.184292\n",
      "0.261764 0.184311\n",
      "0.261939 0.337745\n",
      "0.261842 0.183487\n",
      "0.261747 0.337745\n",
      "0.262007 0.337883\n",
      "0.261735 0.183429\n",
      "0.26173 0.337883\n",
      "0.261725 0.184306\n",
      "0.261893 0.337883\n",
      "0.261714 0.183447\n",
      "0.261794 0.337745\n",
      "0.261788 0.183444\n",
      "0.261867 0.337883\n",
      "0.261777 0.337745\n",
      "0.261855 0.183451\n",
      "0.261932 0.337883\n",
      "0.261925 0.337883\n",
      "0.261837 0.337883\n",
      "0.26175 0.184262\n",
      "0.261663 0.184262\n",
      "0.261658 0.183429\n",
      "0.261734 0.184406\n",
      "0.261808 0.337745\n",
      "0.261723 0.183436\n",
      "0.261639 0.183453\n",
      "0.261635 0.337883\n",
      "0.261748 0.337883\n",
      "0.261746 0.337747\n",
      "0.261822 0.337744\n",
      "0.261971 0.337744\n",
      "0.262043 0.337743\n",
      "0.262037 0.337883\n",
      "0.262031 0.183473\n",
      "0.261874 0.18425\n",
      "0.261944 0.337744\n",
      "0.262013 0.183448\n",
      "0.262007 0.337744\n",
      "0.261702 0.183422\n",
      "0.261921 0.184327\n",
      "0.26199 0.337745\n",
      "0.261911 0.337744\n",
      "0.262124 0.183518\n",
      "0.262044 0.183415\n",
      "0.262256 0.183414\n",
      "0.262321 0.183407\n",
      "0.262241 0.183398\n",
      "0.262234 0.337744\n",
      "0.262157 0.184235\n",
      "0.262151 0.337744\n",
      "0.262074 0.184249\n",
      "0.262067 0.183366\n",
      "0.262201 0.337745\n",
      "0.262125 0.183359\n",
      "0.262118 0.337745\n",
      "0.262043 0.337744\n",
      "0.261968 0.337744\n",
      "0.261963 0.183375\n",
      "0.262161 0.337744\n",
      "0.262222 0.184264\n",
      "0.262282 0.337883\n",
      "0.262208 0.337744\n",
      "0.262202 0.337883\n",
      "0.262262 0.183373\n",
      "0.262189 0.184244\n",
      "0.262117 0.183378\n",
      "0.262046 0.184217\n",
      "0.261975 0.337744\n",
      "0.262165 0.337744\n",
      "0.262093 0.183351\n",
      "0.262088 0.337744\n",
      "0.262083 0.337883\n",
      "0.261821 0.183344\n",
      "0.261753 0.183343\n",
      "0.261812 0.183342\n",
      "0.26187 0.337883\n",
      "0.261991 0.337883\n",
      "0.262111 0.337744\n",
      "0.261981 0.184205\n",
      "0.262101 0.337883\n",
      "0.262095 0.184171\n",
      "0.262089 0.183346\n",
      "0.2619 0.183343\n",
      "0.261957 0.18334\n",
      "0.262013 0.337743\n",
      "0.262069 0.337743\n",
      "0.262184 0.183371\n",
      "0.262179 0.337744\n",
      "0.262173 0.337743\n",
      "0.262167 0.184183\n",
      "0.262221 0.337744\n",
      "0.262393 0.337743\n",
      "0.262446 0.183423\n",
      "0.262466 0.252468\n",
      "0.262403 0.185526\n",
      "0.262397 0.18366\n",
      "0.26245 0.337743\n",
      "0.262502 0.337883\n",
      "0.262438 0.337744\n",
      "0.262374 0.337743\n",
      "0.262195 0.183395\n",
      "0.26219 0.337744\n",
      "0.262184 0.337744\n",
      "0.262348 0.337744\n",
      "0.262286 0.337883\n",
      "0.262449 0.337883\n",
      "0.262274 0.184185\n",
      "0.262101 0.183334\n",
      "0.261984 0.337883\n",
      "0.262146 0.337744\n",
      "0.262141 0.337744\n",
      "0.262191 0.337744\n",
      "0.262185 0.337744\n",
      "0.262071 0.337744\n",
      "0.26212 0.337744\n",
      "0.262225 0.183389\n",
      "0.262111 0.33709\n",
      "0.262022 0.340881\n",
      "0.262019 0.183974\n",
      "0.262178 0.185149\n",
      "0.262181 0.183817\n",
      "0.262178 0.33776\n",
      "0.262227 0.337753\n",
      "0.262329 0.184613\n",
      "0.262376 0.184202\n",
      "0.262424 0.33775\n",
      "0.262525 0.184438\n",
      "0.262519 0.337745\n",
      "0.262565 0.337883\n",
      "0.262508 0.184214\n",
      "0.262399 0.337745\n"
     ]
    }
   ],
   "source": [
    "losses = []\n",
    "for p in range(3000):\n",
    "    idx = np.random.randint(500)\n",
    "    \n",
    "    state_batch = states[idx].as_matrix()\n",
    "    action_batch = actions[idx].as_matrix()\n",
    "    \n",
    "    l, _ = sess.run([loss, train], feed_dict = {\n",
    "        state:state_batch,\n",
    "        action:action_batch\n",
    "#         c_in:np.zeros([1,h_size]),\n",
    "#         h_in:np.zeros([1,h_size])\n",
    "    })\n",
    "    losses.append(l)\n",
    "    if p % 10 == 0:\n",
    "        print(np.mean(losses), l)"
   ]
  },
  {
   "cell_type": "code",
   "execution_count": null,
   "metadata": {
    "collapsed": true
   },
   "outputs": [],
   "source": [
    "regularizer = tf.nn.l2_loss(weights)\n",
    "loss = tf.reduce_mean(loss + beta * regularizer)"
   ]
  },
  {
   "cell_type": "code",
   "execution_count": 138,
   "metadata": {
    "collapsed": true
   },
   "outputs": [],
   "source": [
    "def running_mean(x, N):\n",
    "    cumsum = np.cumsum(np.insert(x, 0, 0)) \n",
    "    return (cumsum[N:] - cumsum[:-N]) / N"
   ]
  },
  {
   "cell_type": "code",
   "execution_count": 146,
   "metadata": {
    "collapsed": true
   },
   "outputs": [],
   "source": [
    "l3 = np.copy(losses)"
   ]
  },
  {
   "cell_type": "code",
   "execution_count": 135,
   "metadata": {},
   "outputs": [
    {
     "data": {
      "image/png": "[encoded data removed]",
      "text/plain": [
       "<matplotlib.figure.Figure at 0x12bac5e80>"
      ]
     },
     "metadata": {},
     "output_type": "display_data"
    }
   ],
   "source": [
    "import matplotlib.pyplot as plt\n",
    "\n",
    "plt.plot(losses)\n",
    "plt.show()"
   ]
  },
  {
   "cell_type": "code",
   "execution_count": 136,
   "metadata": {},
   "outputs": [
    {
     "data": {
      "image/png": "[encoded data removed]",
      "text/plain": [
       "<matplotlib.figure.Figure at 0x12bd527f0>"
      ]
     },
     "metadata": {},
     "output_type": "display_data"
    }
   ],
   "source": [
    "plt.plot(l2)\n",
    "plt.show()"
   ]
  },
  {
   "cell_type": "code",
   "execution_count": 144,
   "metadata": {},
   "outputs": [
    {
     "data": {
      "text/plain": [
       "array([ 0.16560541], dtype=float32)"
      ]
     },
     "execution_count": 144,
     "metadata": {},
     "output_type": "execute_result"
    }
   ],
   "source": [
    "running_mean(l2,1000)"
   ]
  },
  {
   "cell_type": "code",
   "execution_count": 145,
   "metadata": {},
   "outputs": [
    {
     "data": {
      "text/plain": [
       "array([ 0.16114469], dtype=float32)"
      ]
     },
     "execution_count": 145,
     "metadata": {},
     "output_type": "execute_result"
    }
   ],
   "source": [
    "running_mean(losses,1000)"
   ]
  },
  {
   "cell_type": "code",
   "execution_count": null,
   "metadata": {
    "collapsed": true
   },
   "outputs": [],
   "source": [
    ""
   ]
  }
 ],
 "metadata": {
  "kernelspec": {
   "display_name": "Python 3",
   "language": "python",
   "name": "python3"
  },
  "language_info": {
   "codemirror_mode": {
    "name": "ipython",
    "version": 3.0
   },
   "file_extension": ".py",
   "mimetype": "text/x-python",
   "name": "python",
   "nbconvert_exporter": "python",
   "pygments_lexer": "ipython3",
   "version": "3.5.2"
  }
 },
 "nbformat": 4,
 "nbformat_minor": 0
}